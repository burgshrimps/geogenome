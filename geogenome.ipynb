{
 "cells": [
  {
   "cell_type": "code",
   "execution_count": 12,
   "metadata": {},
   "outputs": [],
   "source": [
    "import pandas as pd\n",
    "from pysam import VariantFile\n",
    "import numpy as np"
   ]
  },
  {
   "cell_type": "markdown",
   "metadata": {},
   "source": [
    "# Reduce number of samples using stratified sampling"
   ]
  },
  {
   "cell_type": "code",
   "execution_count": 3,
   "metadata": {},
   "outputs": [],
   "source": [
    "samples = pd.read_csv('1000genomes_phase3.tsv', sep='\\t')\n",
    "vcf = VariantFile('head2.vcf')"
   ]
  },
  {
   "cell_type": "code",
   "execution_count": 4,
   "metadata": {},
   "outputs": [
    {
     "data": {
      "text/plain": [
       "AFR    666\n",
       "EUR    517\n",
       "EAS    508\n",
       "SAS    492\n",
       "AMR    347\n",
       "Name: Superpopulation code, dtype: int64"
      ]
     },
     "execution_count": 4,
     "metadata": {},
     "output_type": "execute_result"
    }
   ],
   "source": [
    "samples = samples[samples['Sample name'].isin(list(vcf.header.samples))]\n",
    "samples['Superpopulation code'].value_counts()"
   ]
  },
  {
   "cell_type": "code",
   "execution_count": 5,
   "metadata": {},
   "outputs": [],
   "source": [
    "samples_subset = samples.groupby('Superpopulation code').apply(lambda x: x.sample(n=20))\n",
    "samples_subset.reset_index(drop=True, inplace=True)\n",
    "samples_subset.to_csv('samples_subset.tsv', sep='\\t', index=False)\n",
    "num_samples = len(samples_subset)"
   ]
  },
  {
   "cell_type": "code",
   "execution_count": 6,
   "metadata": {},
   "outputs": [],
   "source": [
    "vcf.subset_samples(list(samples_subset['Sample name']))"
   ]
  },
  {
   "cell_type": "markdown",
   "metadata": {},
   "source": [
    "# Compute Hamming Distance between subset of samples"
   ]
  },
  {
   "cell_type": "code",
   "execution_count": 7,
   "metadata": {},
   "outputs": [],
   "source": [
    "num_mismatches = np.zeros((num_samples, num_samples))\n",
    "num_snps = 0"
   ]
  },
  {
   "cell_type": "code",
   "execution_count": 9,
   "metadata": {},
   "outputs": [],
   "source": [
    "for rec in vcf.fetch():\n",
    "    all_homref = True\n",
    "    tmp_mismatches = np.zeros((num_samples, num_samples))\n",
    "    for i in range(num_samples):\n",
    "        if rec.samples[i]['GT'] != (0,0):\n",
    "            all_homref = False\n",
    "        for j in range(i, num_samples):\n",
    "            if (rec.samples[i]['GT'] != rec.samples[j]['GT']) & (rec.samples[i]['GT'] != rec.samples[j]['GT'][::-1]):\n",
    "                tmp_mismatches[i,j] += 1\n",
    "    if not all_homref:\n",
    "        num_mismatches += tmp_mismatches\n",
    "        num_snps += 1"
   ]
  },
  {
   "cell_type": "code",
   "execution_count": 10,
   "metadata": {},
   "outputs": [],
   "source": [
    "ham_dist = num_mismatches / num_snps\n",
    "ham_dist = np.triu(ham_dist) + np.tril(ham_dist.T) # Make matrix balanced\n",
    "np.savetxt('ham_dist.txt', ham_dist, delimiter='\\t', fmt='%1.3f')"
   ]
  },
  {
   "cell_type": "code",
   "execution_count": null,
   "metadata": {},
   "outputs": [],
   "source": []
  }
 ],
 "metadata": {
  "kernelspec": {
   "display_name": "Python 3",
   "language": "python",
   "name": "python3"
  },
  "language_info": {
   "codemirror_mode": {
    "name": "ipython",
    "version": 3
   },
   "file_extension": ".py",
   "mimetype": "text/x-python",
   "name": "python",
   "nbconvert_exporter": "python",
   "pygments_lexer": "ipython3",
   "version": "3.8.6"
  }
 },
 "nbformat": 4,
 "nbformat_minor": 4
}
